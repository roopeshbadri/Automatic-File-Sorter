{
 "cells": [
  {
   "cell_type": "markdown",
   "id": "1b9216ab-baf6-4b46-a7c0-87e5969eddbc",
   "metadata": {},
   "source": [
    "# Automatic File Sorter in File Explorer"
   ]
  },
  {
   "cell_type": "code",
   "execution_count": 148,
   "id": "48c63cb3-f10a-4a2a-999f-6618ab7d2c3f",
   "metadata": {},
   "outputs": [],
   "source": [
    "import os,shutil "
   ]
  },
  {
   "cell_type": "code",
   "execution_count": 150,
   "id": "78a6b8c2-7b68-4ade-ab46-4d3a504a0fce",
   "metadata": {},
   "outputs": [],
   "source": [
    "path=r\"C:/Users/Badri/OneDrive/Documents/Github Desktop/File-Sorter/\""
   ]
  },
  {
   "cell_type": "code",
   "execution_count": 152,
   "id": "c37f41f9-f719-45f6-94d3-84c5580b242c",
   "metadata": {},
   "outputs": [
    {
     "name": "stdout",
     "output_type": "stream",
     "text": [
      "['.gitattributes', 'Abstract Major Project.txt', 'AI Tools.txt', 'asus.jpg', 'August Collection Report.png', 'Book1.xlsx', 'csv files', 'jpg files', 'png files', 'Screenshot 2024-08-05 204056.png', 'second year shruthi.jpg', 'shruthi 1st year 1.jpg', 'Sports management.txt', 'Students-ID-bg11.png', 'txt files']\n"
     ]
    }
   ],
   "source": [
    "directory=os.listdir(path)\n",
    "print(directory)"
   ]
  },
  {
   "cell_type": "code",
   "execution_count": 154,
   "id": "6126a862-98a5-47f6-b3a3-6a1187a69268",
   "metadata": {},
   "outputs": [],
   "source": [
    "folder_names=['csv files','png files','txt files','jpg files']\n",
    "\n",
    "for loop in range(0,len(folder_names)):\n",
    "   if not os.path.exists(path+folder_names[loop]):\n",
    "       os.makedirs(path+folder_names[loop])\n",
    "for file in directory:\n",
    "    if '.xlsx' in file and not os.path.exists(path + 'csv files/'+file): \n",
    "        shutil.move(path+file,path+'csv files/'+file)\n",
    "    elif '.png' in file and not os.path.exists(path + 'png files/'+file):\n",
    "        shutil.move(path+file,path+'png files/'+file)\n",
    "    elif '.txt' in file and not os.path.exists(path + 'txt files/'+file): \n",
    "        shutil.move(path+file,path+'txt files/'+file)\n",
    "    elif '.jpg' in file and not os.path.exists(path + 'jpg files/'+file): \n",
    "        shutil.move(path+file,path+'jpg files/'+file)"
   ]
  },
  {
   "cell_type": "code",
   "execution_count": 146,
   "id": "b9b6dd12-e418-462b-8b7e-bcbbc63035b8",
   "metadata": {},
   "outputs": [],
   "source": [
    "\n",
    "    # else:\n",
    "    #     print(\"There are files in this folder that were not moved\")"
   ]
  },
  {
   "cell_type": "code",
   "execution_count": null,
   "id": "879cc5e3-a84a-49cc-bc55-0e4201756be3",
   "metadata": {},
   "outputs": [],
   "source": []
  },
  {
   "cell_type": "code",
   "execution_count": null,
   "id": "337ceea7-7e44-4ffd-b841-672baa61605d",
   "metadata": {},
   "outputs": [],
   "source": []
  }
 ],
 "metadata": {
  "kernelspec": {
   "display_name": "Python 3 (ipykernel)",
   "language": "python",
   "name": "python3"
  },
  "language_info": {
   "codemirror_mode": {
    "name": "ipython",
    "version": 3
   },
   "file_extension": ".py",
   "mimetype": "text/x-python",
   "name": "python",
   "nbconvert_exporter": "python",
   "pygments_lexer": "ipython3",
   "version": "3.12.4"
  }
 },
 "nbformat": 4,
 "nbformat_minor": 5
}
